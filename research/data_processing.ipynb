{
 "cells": [
  {
   "cell_type": "code",
   "execution_count": 1,
   "metadata": {},
   "outputs": [],
   "source": [
    "import os"
   ]
  },
  {
   "cell_type": "code",
   "execution_count": 2,
   "metadata": {},
   "outputs": [],
   "source": [
    "os.chdir(\"../\")"
   ]
  },
  {
   "cell_type": "code",
   "execution_count": 3,
   "metadata": {},
   "outputs": [
    {
     "data": {
      "text/plain": [
       "'c:\\\\Users\\\\teck1\\\\OneDrive\\\\Documents\\\\GitHub\\\\ai'"
      ]
     },
     "execution_count": 3,
     "metadata": {},
     "output_type": "execute_result"
    }
   ],
   "source": [
    "%pwd"
   ]
  },
  {
   "cell_type": "code",
   "execution_count": 4,
   "metadata": {},
   "outputs": [],
   "source": [
    "from dataclasses import dataclass\n",
    "from pathlib import Path\n",
    " \n",
    "@dataclass(frozen=True)\n",
    "class DataIngestionConfig:\n",
    " root_dir: Path\n",
    " source_URL: str\n",
    " local_data_file: Path\n",
    " unzip_dir: Path\n",
    " params_image_height: int\n",
    " params_image_width: int\n",
    " params_sequence: int\n",
    " params_classes_list: list"
   ]
  },
  {
   "cell_type": "code",
   "execution_count": 5,
   "metadata": {},
   "outputs": [],
   "source": [
    "from DetectAnalytics.constants import *\n",
    "from DetectAnalytics.utils.common import read_yaml, create_directories\n"
   ]
  },
  {
   "cell_type": "code",
   "execution_count": 11,
   "metadata": {},
   "outputs": [],
   "source": [
    "class ConfigurationManager:\n",
    "    def __init__(self, config_filepath = CONFIG_FILE_PATH, params_filepath = PARAMS_FILE_PATH):\n",
    "        self.config = read_yaml(config_filepath)\n",
    "        self.params = read_yaml(params_filepath)\n",
    "        create_directories([self.config.artifacts_root])\n",
    "\n",
    "    def get_data_ingestion_config(self) -> DataIngestionConfig:\n",
    "        config = self.config.data_ingestion\n",
    "\n",
    "        create_directories([config.root_dir])\n",
    "\n",
    "        data_ingestion_config = DataIngestionConfig(\n",
    "            root_dir=config.root_dir,\n",
    "            source_URL=config.source_URL,\n",
    "            local_data_file=config.local_data_file,\n",
    "            unzip_dir=config.unzip_dir,\n",
    "            params_image_height=self.params.IMAGE_HEIGHT,\n",
    "            params_image_width=self.params.IMAGE_WIDTH,\n",
    "            params_sequence=self.params.SEQUENCE,\n",
    "            params_classes_list=self.params.CLASSES_LIST\n",
    "        )\n",
    "\n",
    "        return data_ingestion_config"
   ]
  },
  {
   "cell_type": "code",
   "execution_count": 17,
   "metadata": {},
   "outputs": [],
   "source": [
    "import os\n",
    "import urllib.request as request\n",
    "import zipfile\n",
    "from DetectAnalytics import logger\n",
    "from DetectAnalytics.utils.common import get_size\n",
    "import cv2\n",
    "import gdown\n",
    "import numpy as np"
   ]
  },
  {
   "cell_type": "code",
   "execution_count": 30,
   "metadata": {},
   "outputs": [],
   "source": [
    "class DataIngestion:\n",
    "    def __init__(self, config: DataIngestionConfig):\n",
    "        self.config = config\n",
    "\n",
    "\n",
    "    \n",
    "    def download_file(self):\n",
    "        if not os.path.exists(self.config.local_data_file):\n",
    "            # filename, headers = request.urlretrieve(\n",
    "            #     url = self.config.source_URL,\n",
    "            #     filename = self.config.local_data_file\n",
    "            # )\n",
    "            gdown.download(self.config.source_URL, self.config.local_data_file, quiet=False)\n",
    "\n",
    "            # logger.info(f\"{filename} download! with following info: \\n{headers}\")\n",
    "        else:\n",
    "            logger.info(f\"File already exists of size: {get_size(Path(self.config.local_data_file))}\")  \n",
    "\n",
    "\n",
    "    \n",
    "    def extract_zip_file(self):\n",
    "        \"\"\"\n",
    "        zip_file_path: str\n",
    "        Extracts the zip file into the data directory\n",
    "        Function returns None\n",
    "        \"\"\"\n",
    "        unzip_path = self.config.unzip_dir\n",
    "        os.makedirs(unzip_path, exist_ok=True)\n",
    "        with zipfile.ZipFile(self.config.local_data_file, 'r') as zip_ref:\n",
    "            zip_ref.extractall(unzip_path)\n",
    "    \n",
    "    def create_dataset(self):\n",
    "        features = []\n",
    "        labels = []\n",
    "        video_files_paths = []\n",
    "\n",
    "        for class_index, class_name in enumerate(self.config.params_classes_list):\n",
    "            files_list = os.listdir(os.path.join(self.config.root_dir, class_name))\n",
    "\n",
    "            for file_name in files_list:\n",
    "                #get directory of the class\n",
    "                video_file_path = os.path.join(self.config.root_dir, class_name, file_name)\n",
    "                #extract the frames of the video file\n",
    "                frames = self.frames_extraction(video_file_path)\n",
    "                if len(frames) == self.config.params_sequence:\n",
    "                    features.append(frames)\n",
    "                    labels.append(class_index)\n",
    "                    video_files_paths.append(video_file_path)\n",
    "\n",
    "        features = np.asarray(features)\n",
    "        labels = np.asarray(labels)\n",
    "\n",
    "        np.save(\"features.npy\", features)\n",
    "        np.save(\"labels.npy\", labels)\n",
    "        np.save(\"video_files_paths.npy\", video_files_paths)\n",
    "\n",
    "    def frames_extraction(self, vidpath):\n",
    "        frames_list = []\n",
    "\n",
    "        #read vid file\n",
    "        video_reader = cv2.VideoCapture(vidpath)\n",
    "\n",
    "        #get total frames in vid\n",
    "        video_frames_count = int(video_reader.get(cv2.CAP_PROP_FRAME_COUNT))\n",
    "\n",
    "        #calculate interval for frames to be added\n",
    "        skip_frames_window = max(int(video_frames_count/self.config.params_sequence), 1)\n",
    "\n",
    "        for frame_counter in range(self.config.params_sequence):\n",
    "            video_reader.set(cv2.CAP_PROP_POS_FRAMES, frame_counter * skip_frames_window)\n",
    "\n",
    "            success, frame = video_reader.read()\n",
    "\n",
    "            if not success:\n",
    "                break\n",
    "\n",
    "            #resize\n",
    "            resized_frame = cv2.resize(frame, (self.config.params_image_height, self.config.params_image_width))\n",
    "            normalized_frame = resized_frame / 255\n",
    "\n",
    "            frames_list.append(normalized_frame)\n",
    "        \n",
    "        video_reader.release()\n",
    "\n",
    "        return frames_list\n"
   ]
  },
  {
   "cell_type": "code",
   "execution_count": null,
   "metadata": {},
   "outputs": [],
   "source": [
    "try:\n",
    "    config = ConfigurationManager()\n",
    "    data_ingestion_config = config.get_data_ingestion_config()\n",
    "    data_ingestion = DataIngestion(config=data_ingestion_config)\n",
    "    data_ingestion.download_file()\n",
    "    data_ingestion.extract_zip_file()\n",
    "    data_ingestion.create_dataset()\n",
    "except Exception as e:\n",
    "    raise e"
   ]
  }
 ],
 "metadata": {
  "kernelspec": {
   "display_name": "detectai",
   "language": "python",
   "name": "python3"
  },
  "language_info": {
   "codemirror_mode": {
    "name": "ipython",
    "version": 3
   },
   "file_extension": ".py",
   "mimetype": "text/x-python",
   "name": "python",
   "nbconvert_exporter": "python",
   "pygments_lexer": "ipython3",
   "version": "3.8.18"
  }
 },
 "nbformat": 4,
 "nbformat_minor": 2
}
